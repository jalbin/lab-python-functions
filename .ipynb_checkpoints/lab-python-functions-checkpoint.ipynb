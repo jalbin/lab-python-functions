{
 "cells": [
  {
   "cell_type": "markdown",
   "metadata": {},
   "source": [
    "# Lab | Functions"
   ]
  },
  {
   "cell_type": "markdown",
   "metadata": {
    "tags": []
   },
   "source": [
    "## Exercise: Managing Customer Orders with Functions\n",
    "\n",
    "In the previous exercise, you improved the code for managing customer orders by using loops and flow control. Now, let's take it a step further and refactor the code by introducing functions.\n",
    "\n",
    "Follow the steps below to complete the exercise:\n",
    "\n",
    "1. Define a function named `initialize_inventory` that takes `products` as a parameter. Inside the function, implement the code for initializing the inventory dictionary using a loop and user input.\n",
    "\n",
    "2. Define a function named `get_customer_orders` that takes no parameters. Inside the function, implement the code for prompting the user to enter the product names using a loop. The function should return the `customer_orders` set.\n",
    "\n",
    "3. Define a function named `update_inventory` that takes `customer_orders` and `inventory` as parameters. Inside the function, implement the code for updating the inventory dictionary based on the customer orders.\n",
    "\n",
    "4. Define a function named `calculate_order_statistics` that takes `customer_orders` and `products` as parameters. Inside the function, implement the code for calculating the order statistics (total products ordered, and percentage of unique products ordered). The function should return these values.\n",
    "\n",
    "5. Define a function named `print_order_statistics` that takes `order_statistics` as a parameter. Inside the function, implement the code for printing the order statistics.\n",
    "\n",
    "6. Define a function named `print_updated_inventory` that takes `inventory` as a parameter. Inside the function, implement the code for printing the updated inventory.\n",
    "\n",
    "7. Call the functions in the appropriate sequence to execute the program and manage customer orders.\n",
    "\n",
    "Hints for functions:\n",
    "\n",
    "- Consider the input parameters required for each function and their return values.\n",
    "- Utilize function parameters and return values to transfer data between functions.\n",
    "- Test your functions individually to ensure they work correctly.\n",
    "\n",
    "\n"
   ]
  },
  {
   "cell_type": "code",
   "execution_count": 1,
   "metadata": {},
   "outputs": [],
   "source": [
    "# 1.\n",
    "\n",
    "def initialize_inventory(products):\n",
    "    for product in products:\n",
    "        quantity = input(f\"Enter the quantity for {product} : \")\n",
    "        while not quantity.isdigit():\n",
    "            quantity = input(f\"Enter a valid quantity for {product} : \")\n",
    "        inventory[product] = int(quantity)"
   ]
  },
  {
   "cell_type": "code",
   "execution_count": 2,
   "metadata": {},
   "outputs": [],
   "source": [
    "# 2.\n",
    "\n",
    "def get_customer_orders():\n",
    "    order = input(\"Enter the name of a product to order: \")\n",
    "    while not order == \"stop\":\n",
    "        customer_orders.add(order)\n",
    "        order = input(\"Enter the name of a product to order: \")\n",
    "    return customer_orders"
   ]
  },
  {
   "cell_type": "code",
   "execution_count": 3,
   "metadata": {},
   "outputs": [],
   "source": [
    "# 3.\n",
    "\n",
    "def update_inventory(customer_orders,inventory):\n",
    "    for item in customer_orders:\n",
    "        inventory[item] = inventory[item] - 1"
   ]
  },
  {
   "cell_type": "code",
   "execution_count": 4,
   "metadata": {},
   "outputs": [],
   "source": [
    "# 4.\n",
    "\n",
    "def calculate_order_statistics(customer_orders,products):\n",
    "    return (len(customer_orders),100*len(customer_orders)/len(products))"
   ]
  },
  {
   "cell_type": "code",
   "execution_count": 5,
   "metadata": {},
   "outputs": [],
   "source": [
    "# 5.\n",
    "\n",
    "def print_order_statistics(order_statistics):\n",
    "    print(f\"Order Statistics:\\nTotal Products Ordered: {order_statistics[0]}\\nPercentage of Products Ordered: {order_statistics[1]}%\")"
   ]
  },
  {
   "cell_type": "code",
   "execution_count": 6,
   "metadata": {},
   "outputs": [],
   "source": [
    "# 6.\n",
    "\n",
    "def print_updated_inventory(inventory):\n",
    "    for k,v in inventory.items(): print(f\"{k} : {v}\")"
   ]
  },
  {
   "cell_type": "code",
   "execution_count": 7,
   "metadata": {},
   "outputs": [
    {
     "name": "stdout",
     "output_type": "stream",
     "text": [
      "Enter the quantity for t-shirt : 2\n",
      "Enter the quantity for mug : 4\n",
      "Enter the quantity for hat : 6\n",
      "Enter the quantity for book : 8\n",
      "Enter the quantity for keychain : 10\n",
      "Enter the name of a product to order: hat\n",
      "Enter the name of a product to order: book\n",
      "Enter the name of a product to order: mug\n",
      "Enter the name of a product to order: stop\n",
      "Order Statistics:\n",
      "Total Products Ordered: 3\n",
      "Percentage of Products Ordered: 60.0%\n",
      "t-shirt : 2\n",
      "mug : 3\n",
      "hat : 5\n",
      "book : 7\n",
      "keychain : 10\n"
     ]
    }
   ],
   "source": [
    "# 7.\n",
    "\n",
    "products = [\"t-shirt\", \"mug\", \"hat\", \"book\", \"keychain\"]\n",
    "inventory = {}\n",
    "customer_orders = set()\n",
    "\n",
    "initialize_inventory(products)\n",
    "get_customer_orders()\n",
    "update_inventory(customer_orders,inventory)\n",
    "print_order_statistics(calculate_order_statistics(customer_orders,products))\n",
    "print_updated_inventory(inventory)\n"
   ]
  }
 ],
 "metadata": {
  "kernelspec": {
   "display_name": "Python 3",
   "language": "python",
   "name": "python3"
  },
  "language_info": {
   "codemirror_mode": {
    "name": "ipython",
    "version": 3
   },
   "file_extension": ".py",
   "mimetype": "text/x-python",
   "name": "python",
   "nbconvert_exporter": "python",
   "pygments_lexer": "ipython3",
   "version": "3.7.6"
  }
 },
 "nbformat": 4,
 "nbformat_minor": 5
}
